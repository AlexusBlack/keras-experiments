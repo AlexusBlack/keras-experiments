{
 "cells": [
  {
   "cell_type": "markdown",
   "metadata": {},
   "source": [
    "# MNIST Experiments"
   ]
  },
  {
   "cell_type": "markdown",
   "metadata": {},
   "source": [
    "This notebook is created to experiment with [MNIST](https://en.wikipedia.org/wiki/MNIST_database) dataset.\n",
    "\n",
    "Plan:\n",
    "- Dense network solution on CPU\n",
    "- Dense network solution on GPU\n",
    "- CNN+dense network solution on CPU\n",
    "- CNN+dense network solution on GPU\n",
    "\n",
    "Tools: Keras, PyTorch"
   ]
  },
  {
   "cell_type": "code",
   "execution_count": 1,
   "metadata": {},
   "outputs": [
    {
     "name": "stderr",
     "output_type": "stream",
     "text": [
      "Using TensorFlow backend.\n",
      "/Users/alexchernov/anaconda3/envs/deep-learning/lib/python3.6/site-packages/tensorflow/python/framework/dtypes.py:526: FutureWarning: Passing (type, 1) or '1type' as a synonym of type is deprecated; in a future version of numpy, it will be understood as (type, (1,)) / '(1,)type'.\n",
      "  _np_qint8 = np.dtype([(\"qint8\", np.int8, 1)])\n",
      "/Users/alexchernov/anaconda3/envs/deep-learning/lib/python3.6/site-packages/tensorflow/python/framework/dtypes.py:527: FutureWarning: Passing (type, 1) or '1type' as a synonym of type is deprecated; in a future version of numpy, it will be understood as (type, (1,)) / '(1,)type'.\n",
      "  _np_quint8 = np.dtype([(\"quint8\", np.uint8, 1)])\n",
      "/Users/alexchernov/anaconda3/envs/deep-learning/lib/python3.6/site-packages/tensorflow/python/framework/dtypes.py:528: FutureWarning: Passing (type, 1) or '1type' as a synonym of type is deprecated; in a future version of numpy, it will be understood as (type, (1,)) / '(1,)type'.\n",
      "  _np_qint16 = np.dtype([(\"qint16\", np.int16, 1)])\n",
      "/Users/alexchernov/anaconda3/envs/deep-learning/lib/python3.6/site-packages/tensorflow/python/framework/dtypes.py:529: FutureWarning: Passing (type, 1) or '1type' as a synonym of type is deprecated; in a future version of numpy, it will be understood as (type, (1,)) / '(1,)type'.\n",
      "  _np_quint16 = np.dtype([(\"quint16\", np.uint16, 1)])\n",
      "/Users/alexchernov/anaconda3/envs/deep-learning/lib/python3.6/site-packages/tensorflow/python/framework/dtypes.py:530: FutureWarning: Passing (type, 1) or '1type' as a synonym of type is deprecated; in a future version of numpy, it will be understood as (type, (1,)) / '(1,)type'.\n",
      "  _np_qint32 = np.dtype([(\"qint32\", np.int32, 1)])\n",
      "/Users/alexchernov/anaconda3/envs/deep-learning/lib/python3.6/site-packages/tensorflow/python/framework/dtypes.py:535: FutureWarning: Passing (type, 1) or '1type' as a synonym of type is deprecated; in a future version of numpy, it will be understood as (type, (1,)) / '(1,)type'.\n",
      "  np_resource = np.dtype([(\"resource\", np.ubyte, 1)])\n"
     ]
    }
   ],
   "source": [
    "import keras"
   ]
  },
  {
   "cell_type": "code",
   "execution_count": 2,
   "metadata": {},
   "outputs": [],
   "source": [
    "from keras.datasets import mnist\n",
    "#from keras.datasets import fashion_mnist\n",
    "from keras.layers import Dense, Dropout, Flatten\n",
    "from keras.models import Sequential\n",
    "from keras.layers import Conv2D, MaxPooling2D\n",
    "from keras import backend as K"
   ]
  },
  {
   "cell_type": "code",
   "execution_count": 53,
   "metadata": {},
   "outputs": [
    {
     "data": {
      "text/plain": [
       "['/job:localhost/replica:0/task:0/device:GPU:0']"
      ]
     },
     "execution_count": 53,
     "metadata": {},
     "output_type": "execute_result"
    }
   ],
   "source": [
    "K.tensorflow_backend._get_available_gpus()"
   ]
  },
  {
   "cell_type": "code",
   "execution_count": 3,
   "metadata": {},
   "outputs": [],
   "source": [
    "#get train & tesr dataset\n",
    "(train_data, train_labels), (test_data, test_labels) = mnist.load_data()\n",
    "#(train_data, train_labels), (test_data, test_labels) = fashion_mnist.load_data()"
   ]
  },
  {
   "cell_type": "code",
   "execution_count": 87,
   "metadata": {},
   "outputs": [],
   "source": [
    "img_width = 28\n",
    "img_height = 28\n",
    "img_size = img_width * img_height # 784\n",
    "train_img_number = train_data.shape[0]\n",
    "test_img_number = test_data.shape[0]\n",
    "classes_number = 10 # 10 digits 0-9\n",
    "batch_size = 128\n",
    "train_epochs = 10"
   ]
  },
  {
   "cell_type": "code",
   "execution_count": 88,
   "metadata": {},
   "outputs": [],
   "source": [
    "# shape images\n",
    "if K.image_data_format() == 'channels_first':\n",
    "    train_data = train_data.reshape(train_img_number, 1, img_width, img_height)\n",
    "    test_data = test_data.reshape(test_img_number, 1, img_width, img_height)\n",
    "    input_shape = (1, img_width, img_height)\n",
    "else: # channels_last\n",
    "    train_data = train_data.reshape(train_img_number, img_width, img_height, 1)\n",
    "    test_data = test_data.reshape(test_img_number, img_width, img_height, 1)\n",
    "    input_shape = (img_width, img_height, 1)"
   ]
  },
  {
   "cell_type": "code",
   "execution_count": 89,
   "metadata": {},
   "outputs": [],
   "source": [
    "train_data = train_data.astype('float32')\n",
    "test_data = test_data.astype('float32')\n",
    "train_data /= 255\n",
    "test_data /= 255"
   ]
  },
  {
   "cell_type": "code",
   "execution_count": 90,
   "metadata": {},
   "outputs": [
    {
     "name": "stdout",
     "output_type": "stream",
     "text": [
      "train shape (60000, 28, 28, 1)\n"
     ]
    }
   ],
   "source": [
    "print('train shape', train_data.shape)"
   ]
  },
  {
   "cell_type": "code",
   "execution_count": 91,
   "metadata": {},
   "outputs": [],
   "source": [
    "train_labels = keras.utils.to_categorical(train_labels, classes_number)\n",
    "test_labels = keras.utils.to_categorical(test_labels, classes_number)"
   ]
  },
  {
   "cell_type": "code",
   "execution_count": 127,
   "metadata": {},
   "outputs": [
    {
     "name": "stdout",
     "output_type": "stream",
     "text": [
      "Model: \"sequential_28\"\n",
      "_________________________________________________________________\n",
      "Layer (type)                 Output Shape              Param #   \n",
      "=================================================================\n",
      "conv2d_32 (Conv2D)           (None, 26, 26, 32)        320       \n",
      "_________________________________________________________________\n",
      "conv2d_33 (Conv2D)           (None, 24, 24, 64)        18496     \n",
      "_________________________________________________________________\n",
      "max_pooling2d_22 (MaxPooling (None, 12, 12, 64)        0         \n",
      "_________________________________________________________________\n",
      "dropout_36 (Dropout)         (None, 12, 12, 64)        0         \n",
      "_________________________________________________________________\n",
      "flatten_28 (Flatten)         (None, 9216)              0         \n",
      "_________________________________________________________________\n",
      "dense_51 (Dense)             (None, 128)               1179776   \n",
      "_________________________________________________________________\n",
      "dropout_37 (Dropout)         (None, 128)               0         \n",
      "_________________________________________________________________\n",
      "dense_52 (Dense)             (None, 10)                1290      \n",
      "=================================================================\n",
      "Total params: 1,199,882\n",
      "Trainable params: 1,199,882\n",
      "Non-trainable params: 0\n",
      "_________________________________________________________________\n"
     ]
    }
   ],
   "source": [
    "model = Sequential()\n",
    "model.add(Conv2D(32, kernel_size=(3,3), activation='relu', input_shape=input_shape)) # 32x28x28\n",
    "model.add(Conv2D(64, kernel_size=(3,3), activation='relu')) # 64x28x28\n",
    "model.add(MaxPooling2D(pool_size=(2,2))) # 64x14x14\n",
    "model.add(Dropout(0.25))\n",
    "model.add(Flatten())\n",
    "model.add(Dense(128, activation='relu')) # 128\n",
    "model.add(Dropout(0.50))\n",
    "model.add(Dense(classes_number, activation='softmax')) # 10\n",
    "\n",
    "model.summary()"
   ]
  },
  {
   "cell_type": "code",
   "execution_count": 121,
   "metadata": {},
   "outputs": [],
   "source": [
    "model.compile(\n",
    "    loss=keras.losses.categorical_crossentropy,\n",
    "    optimizer=keras.optimizers.adadelta(), #keras.optimizers.adadelta(),\n",
    "    metrics=['accuracy']\n",
    ")"
   ]
  },
  {
   "cell_type": "code",
   "execution_count": 122,
   "metadata": {},
   "outputs": [
    {
     "name": "stdout",
     "output_type": "stream",
     "text": [
      "(10000, 28, 28, 1)\n",
      "(10000, 10)\n"
     ]
    }
   ],
   "source": [
    "print(test_data.shape)\n",
    "print(test_labels.shape)"
   ]
  },
  {
   "cell_type": "code",
   "execution_count": 123,
   "metadata": {},
   "outputs": [
    {
     "name": "stdout",
     "output_type": "stream",
     "text": [
      "Train on 60000 samples, validate on 10000 samples\n",
      "Epoch 1/10\n",
      "60000/60000 [==============================] - 2s 30us/step - loss: 1.7500 - accuracy: 0.3865 - val_loss: 1.4751 - val_accuracy: 0.4943\n",
      "Epoch 2/10\n",
      "60000/60000 [==============================] - 2s 28us/step - loss: 1.3747 - accuracy: 0.5370 - val_loss: 1.2651 - val_accuracy: 0.5822\n",
      "Epoch 3/10\n",
      "60000/60000 [==============================] - 2s 28us/step - loss: 1.2352 - accuracy: 0.5888 - val_loss: 1.1862 - val_accuracy: 0.6143\n",
      "Epoch 4/10\n",
      "60000/60000 [==============================] - 2s 28us/step - loss: 1.1681 - accuracy: 0.6136 - val_loss: 1.1293 - val_accuracy: 0.6361\n",
      "Epoch 5/10\n",
      "60000/60000 [==============================] - 2s 28us/step - loss: 1.1276 - accuracy: 0.6267 - val_loss: 1.1006 - val_accuracy: 0.6477\n",
      "Epoch 6/10\n",
      "60000/60000 [==============================] - 2s 28us/step - loss: 1.1009 - accuracy: 0.6351 - val_loss: 1.0772 - val_accuracy: 0.6507\n",
      "Epoch 7/10\n",
      "60000/60000 [==============================] - 2s 28us/step - loss: 1.0809 - accuracy: 0.6394 - val_loss: 1.0619 - val_accuracy: 0.6511\n",
      "Epoch 8/10\n",
      "60000/60000 [==============================] - 2s 28us/step - loss: 1.0659 - accuracy: 0.6431 - val_loss: 1.0517 - val_accuracy: 0.6544\n",
      "Epoch 9/10\n",
      "60000/60000 [==============================] - 2s 28us/step - loss: 1.0533 - accuracy: 0.6474 - val_loss: 1.0397 - val_accuracy: 0.6601\n",
      "Epoch 10/10\n",
      "60000/60000 [==============================] - 2s 28us/step - loss: 1.0430 - accuracy: 0.6513 - val_loss: 1.0350 - val_accuracy: 0.6598\n"
     ]
    },
    {
     "data": {
      "text/plain": [
       "<keras.callbacks.callbacks.History at 0x7f14993c6fd0>"
      ]
     },
     "execution_count": 123,
     "metadata": {},
     "output_type": "execute_result"
    }
   ],
   "source": [
    "train_epochs = 10\n",
    "\n",
    "model.fit(\n",
    "    train_data, train_labels, \n",
    "    batch_size=batch_size, \n",
    "    epochs=train_epochs, \n",
    "    verbose=1, \n",
    "    validation_data=(test_data, test_labels)\n",
    ")"
   ]
  },
  {
   "cell_type": "code",
   "execution_count": 85,
   "metadata": {},
   "outputs": [
    {
     "name": "stdout",
     "output_type": "stream",
     "text": [
      "Test loss: 0.03707205359062646\n",
      "Test accuracy: 0.9879999756813049\n"
     ]
    }
   ],
   "source": [
    "score = model.evaluate(test_data, test_labels, verbose=0)\n",
    "print('Test loss:', score[0])\n",
    "print('Test accuracy:', score[1])"
   ]
  },
  {
   "cell_type": "markdown",
   "metadata": {},
   "source": [
    "# Dog CNN with Keras"
   ]
  },
  {
   "cell_type": "markdown",
   "metadata": {},
   "source": [
    "## Dependancies"
   ]
  },
  {
   "cell_type": "code",
   "execution_count": 4,
   "metadata": {},
   "outputs": [],
   "source": [
    "from sklearn.datasets import load_files\n",
    "from keras.utils import np_utils\n",
    "import numpy as np\n",
    "from glob import glob"
   ]
  },
  {
   "cell_type": "code",
   "execution_count": 5,
   "metadata": {},
   "outputs": [],
   "source": [
    "dog_classes = 133"
   ]
  },
  {
   "cell_type": "code",
   "execution_count": 6,
   "metadata": {},
   "outputs": [],
   "source": [
    "def load_dataset(path, classes):\n",
    "    data = load_files(path)\n",
    "    files = np.array(data['filenames'])\n",
    "    targets = np_utils.to_categorical(np.array(data['target']), classes)\n",
    "    return files, targets"
   ]
  },
  {
   "cell_type": "markdown",
   "metadata": {},
   "source": [
    "## Loading dataset"
   ]
  },
  {
   "cell_type": "code",
   "execution_count": 7,
   "metadata": {},
   "outputs": [],
   "source": [
    "train_files, train_labels = load_dataset('dogImages/train', dog_classes)\n",
    "valid_files, valid_labels = load_dataset('dogImages/valid', dog_classes)\n",
    "test_files, test_labels = load_dataset('dogImages/test', dog_classes)"
   ]
  },
  {
   "cell_type": "code",
   "execution_count": 8,
   "metadata": {},
   "outputs": [],
   "source": [
    "dog_labels = [item[16:-1] for item in sorted(glob('dogImages/train/*/'))]"
   ]
  },
  {
   "cell_type": "code",
   "execution_count": 9,
   "metadata": {},
   "outputs": [],
   "source": [
    "img_size = (224, 224)"
   ]
  },
  {
   "cell_type": "markdown",
   "metadata": {},
   "source": [
    "## Preprocessing images"
   ]
  },
  {
   "cell_type": "code",
   "execution_count": 10,
   "metadata": {},
   "outputs": [],
   "source": [
    "from keras.preprocessing import image\n",
    "from tqdm import tqdm_notebook as tqdm\n",
    "from PIL import ImageFile\n",
    "ImageFile.LOAD_TRUNCATED_IMAGES = True"
   ]
  },
  {
   "cell_type": "code",
   "execution_count": 11,
   "metadata": {},
   "outputs": [],
   "source": [
    "def path_to_tensor(path):\n",
    "    # load image\n",
    "    img = image.load_img(path, target_size=img_size)\n",
    "    # convert to 3D tensor\n",
    "    x = image.img_to_array(img)\n",
    "    # convert into 4D tensor at beginning of new axis\n",
    "    return np.expand_dims(x, axis=0)    "
   ]
  },
  {
   "cell_type": "code",
   "execution_count": 12,
   "metadata": {},
   "outputs": [],
   "source": [
    "def paths_to_tensor(img_paths):\n",
    "    list_of_tensors = [path_to_tensor(img_path) for img_path in tqdm(img_paths)]\n",
    "    return np.vstack(list_of_tensors)"
   ]
  },
  {
   "cell_type": "code",
   "execution_count": 13,
   "metadata": {},
   "outputs": [
    {
     "name": "stderr",
     "output_type": "stream",
     "text": [
      "/Users/alexchernov/anaconda3/envs/deep-learning/lib/python3.6/site-packages/ipykernel_launcher.py:2: TqdmDeprecationWarning: This function will be removed in tqdm==5.0.0\n",
      "Please use `tqdm.notebook.tqdm` instead of `tqdm.tqdm_notebook`\n",
      "  \n"
     ]
    },
    {
     "data": {
      "application/vnd.jupyter.widget-view+json": {
       "model_id": "58acae02f50d4c1398ec6d2a418f969c",
       "version_major": 2,
       "version_minor": 0
      },
      "text/plain": [
       "HBox(children=(IntProgress(value=0, max=6680), HTML(value='')))"
      ]
     },
     "metadata": {},
     "output_type": "display_data"
    },
    {
     "name": "stdout",
     "output_type": "stream",
     "text": [
      "\n"
     ]
    },
    {
     "data": {
      "application/vnd.jupyter.widget-view+json": {
       "model_id": "11ac18b3b0144d9a845b16bbafeba7af",
       "version_major": 2,
       "version_minor": 0
      },
      "text/plain": [
       "HBox(children=(IntProgress(value=0, max=835), HTML(value='')))"
      ]
     },
     "metadata": {},
     "output_type": "display_data"
    },
    {
     "name": "stdout",
     "output_type": "stream",
     "text": [
      "\n"
     ]
    },
    {
     "data": {
      "application/vnd.jupyter.widget-view+json": {
       "model_id": "9c0a37d1651d47a5adf6b5ae6c13b049",
       "version_major": 2,
       "version_minor": 0
      },
      "text/plain": [
       "HBox(children=(IntProgress(value=0, max=836), HTML(value='')))"
      ]
     },
     "metadata": {},
     "output_type": "display_data"
    },
    {
     "name": "stdout",
     "output_type": "stream",
     "text": [
      "\n"
     ]
    }
   ],
   "source": [
    "train_tensors = paths_to_tensor(train_files).astype('float32')/255\n",
    "valid_tensors = paths_to_tensor(valid_files).astype('float32')/255\n",
    "test_tensors = paths_to_tensor(test_files).astype('float32')/255"
   ]
  },
  {
   "cell_type": "markdown",
   "metadata": {},
   "source": [
    "## CNN dependancies"
   ]
  },
  {
   "cell_type": "code",
   "execution_count": 63,
   "metadata": {},
   "outputs": [],
   "source": [
    "from keras.layers import Conv2D, MaxPool2D, GlobalAveragePooling2D\n",
    "from keras.layers import Dropout, Flatten, Dense\n",
    "from keras.models import Sequential\n",
    "from keras.layers.normalization import BatchNormalization"
   ]
  },
  {
   "cell_type": "code",
   "execution_count": 74,
   "metadata": {},
   "outputs": [
    {
     "name": "stdout",
     "output_type": "stream",
     "text": [
      "Model: \"sequential_15\"\n",
      "_________________________________________________________________\n",
      "Layer (type)                 Output Shape              Param #   \n",
      "=================================================================\n",
      "conv2d_47 (Conv2D)           (None, 223, 223, 16)      208       \n",
      "_________________________________________________________________\n",
      "batch_normalization_10 (Batc (None, 223, 223, 16)      48        \n",
      "_________________________________________________________________\n",
      "max_pooling2d_44 (MaxPooling (None, 55, 55, 16)        0         \n",
      "_________________________________________________________________\n",
      "dropout_27 (Dropout)         (None, 55, 55, 16)        0         \n",
      "_________________________________________________________________\n",
      "conv2d_48 (Conv2D)           (None, 54, 54, 32)        2080      \n",
      "_________________________________________________________________\n",
      "batch_normalization_11 (Batc (None, 54, 54, 32)        96        \n",
      "_________________________________________________________________\n",
      "max_pooling2d_45 (MaxPooling (None, 13, 13, 32)        0         \n",
      "_________________________________________________________________\n",
      "dropout_28 (Dropout)         (None, 13, 13, 32)        0         \n",
      "_________________________________________________________________\n",
      "conv2d_49 (Conv2D)           (None, 12, 12, 64)        8256      \n",
      "_________________________________________________________________\n",
      "batch_normalization_12 (Batc (None, 12, 12, 64)        192       \n",
      "_________________________________________________________________\n",
      "max_pooling2d_46 (MaxPooling (None, 3, 3, 64)          0         \n",
      "_________________________________________________________________\n",
      "dropout_29 (Dropout)         (None, 3, 3, 64)          0         \n",
      "_________________________________________________________________\n",
      "conv2d_50 (Conv2D)           (None, 2, 2, 128)         32896     \n",
      "_________________________________________________________________\n",
      "batch_normalization_13 (Batc (None, 2, 2, 128)         384       \n",
      "_________________________________________________________________\n",
      "flatten_12 (Flatten)         (None, 512)               0         \n",
      "_________________________________________________________________\n",
      "dropout_30 (Dropout)         (None, 512)               0         \n",
      "_________________________________________________________________\n",
      "dense_23 (Dense)             (None, 1024)              525312    \n",
      "_________________________________________________________________\n",
      "dropout_31 (Dropout)         (None, 1024)              0         \n",
      "_________________________________________________________________\n",
      "dense_24 (Dense)             (None, 133)               136325    \n",
      "=================================================================\n",
      "Total params: 705,797\n",
      "Trainable params: 705,317\n",
      "Non-trainable params: 480\n",
      "_________________________________________________________________\n"
     ]
    }
   ],
   "source": [
    "model = Sequential()\n",
    "\n",
    "model.add(Conv2D(filters=16, kernel_size=2, activation='relu', input_shape=train_tensors.shape[1:]))\n",
    "model.add(BatchNormalization(axis=3, scale=False))\n",
    "model.add(MaxPool2D(4))\n",
    "model.add(Dropout(0.2))\n",
    "\n",
    "model.add(Conv2D(filters=32, kernel_size=2, activation='relu'))\n",
    "model.add(BatchNormalization(axis=3, scale=False))\n",
    "model.add(MaxPool2D(4))\n",
    "model.add(Dropout(0.2))\n",
    "\n",
    "model.add(Conv2D(filters=64, kernel_size=2, activation='relu'))\n",
    "model.add(BatchNormalization(axis=3, scale=False))\n",
    "model.add(MaxPool2D(4))\n",
    "model.add(Dropout(0.2))\n",
    "\n",
    "model.add(Conv2D(filters=128, kernel_size=2, activation='relu'))\n",
    "model.add(BatchNormalization(axis=3, scale=False))\n",
    "model.add(Flatten())\n",
    "model.add(Dropout(0.25))\n",
    "\n",
    "model.add(Dense(1024, activation='relu'))\n",
    "model.add(Dropout(0.50))\n",
    "\n",
    "model.add(Dense(dog_classes, activation='softmax'))\n",
    "\n",
    "model.summary()"
   ]
  },
  {
   "cell_type": "code",
   "execution_count": 75,
   "metadata": {},
   "outputs": [],
   "source": [
    "import keras\n",
    "\n",
    "model.compile(\n",
    "    loss=keras.losses.categorical_crossentropy,\n",
    "    optimizer=keras.optimizers.adadelta(), #keras.optimizers.adadelta(),\n",
    "    metrics=['accuracy']\n",
    ")"
   ]
  },
  {
   "cell_type": "code",
   "execution_count": 76,
   "metadata": {},
   "outputs": [],
   "source": [
    "from keras.callbacks import ModelCheckpoint\n",
    "checkpointer = ModelCheckpoint(\n",
    "    filepath='keras_dog_breed_classifier.hdf5', \n",
    "    save_best_only=True,\n",
    "    verbose=1\n",
    ")"
   ]
  },
  {
   "cell_type": "code",
   "execution_count": 77,
   "metadata": {},
   "outputs": [
    {
     "name": "stdout",
     "output_type": "stream",
     "text": [
      "Train on 6680 samples, validate on 835 samples\n",
      "Epoch 1/20\n",
      "6680/6680 [==============================] - 26s 4ms/step - loss: 5.1426 - accuracy: 0.0251 - val_loss: 6.5611 - val_accuracy: 0.0144\n",
      "\n",
      "Epoch 00001: val_loss improved from inf to 6.56115, saving model to keras_dog_breed_classifier.hdf5\n",
      "Epoch 2/20\n",
      "6680/6680 [==============================] - 24s 4ms/step - loss: 4.5577 - accuracy: 0.0455 - val_loss: 5.8987 - val_accuracy: 0.0275\n",
      "\n",
      "Epoch 00002: val_loss improved from 6.56115 to 5.89871, saving model to keras_dog_breed_classifier.hdf5\n",
      "Epoch 3/20\n",
      "6680/6680 [==============================] - 24s 4ms/step - loss: 4.2829 - accuracy: 0.0672 - val_loss: 7.0065 - val_accuracy: 0.0527\n",
      "\n",
      "Epoch 00003: val_loss did not improve from 5.89871\n",
      "Epoch 4/20\n",
      "6680/6680 [==============================] - 24s 4ms/step - loss: 4.1732 - accuracy: 0.0717 - val_loss: 5.2462 - val_accuracy: 0.0491\n",
      "\n",
      "Epoch 00004: val_loss improved from 5.89871 to 5.24616, saving model to keras_dog_breed_classifier.hdf5\n",
      "Epoch 5/20\n",
      "6680/6680 [==============================] - 24s 4ms/step - loss: 4.0549 - accuracy: 0.0921 - val_loss: 4.8242 - val_accuracy: 0.0539\n",
      "\n",
      "Epoch 00005: val_loss improved from 5.24616 to 4.82415, saving model to keras_dog_breed_classifier.hdf5\n",
      "Epoch 6/20\n",
      "6680/6680 [==============================] - 24s 4ms/step - loss: 3.9896 - accuracy: 0.1027 - val_loss: 5.0468 - val_accuracy: 0.0647\n",
      "\n",
      "Epoch 00006: val_loss did not improve from 4.82415\n",
      "Epoch 7/20\n",
      "6680/6680 [==============================] - 24s 4ms/step - loss: 3.8835 - accuracy: 0.1103 - val_loss: 4.9393 - val_accuracy: 0.0707\n",
      "\n",
      "Epoch 00007: val_loss did not improve from 4.82415\n",
      "Epoch 8/20\n",
      "6680/6680 [==============================] - 24s 4ms/step - loss: 3.8165 - accuracy: 0.1266 - val_loss: 7.8551 - val_accuracy: 0.0491\n",
      "\n",
      "Epoch 00008: val_loss did not improve from 4.82415\n",
      "Epoch 9/20\n",
      "6680/6680 [==============================] - 24s 4ms/step - loss: 3.7496 - accuracy: 0.1385 - val_loss: 5.5456 - val_accuracy: 0.0587\n",
      "\n",
      "Epoch 00009: val_loss did not improve from 4.82415\n",
      "Epoch 10/20\n",
      "6680/6680 [==============================] - 24s 4ms/step - loss: 3.7045 - accuracy: 0.1491 - val_loss: 5.2405 - val_accuracy: 0.0527\n",
      "\n",
      "Epoch 00010: val_loss did not improve from 4.82415\n",
      "Epoch 11/20\n",
      "6680/6680 [==============================] - 24s 4ms/step - loss: 3.6235 - accuracy: 0.1596 - val_loss: 4.7990 - val_accuracy: 0.0922\n",
      "\n",
      "Epoch 00011: val_loss improved from 4.82415 to 4.79898, saving model to keras_dog_breed_classifier.hdf5\n",
      "Epoch 12/20\n",
      "6680/6680 [==============================] - 24s 4ms/step - loss: 3.5960 - accuracy: 0.1555 - val_loss: 4.5265 - val_accuracy: 0.0766\n",
      "\n",
      "Epoch 00012: val_loss improved from 4.79898 to 4.52654, saving model to keras_dog_breed_classifier.hdf5\n",
      "Epoch 13/20\n",
      "6680/6680 [==============================] - 24s 4ms/step - loss: 3.5454 - accuracy: 0.1621 - val_loss: 4.3227 - val_accuracy: 0.0886\n",
      "\n",
      "Epoch 00013: val_loss improved from 4.52654 to 4.32265, saving model to keras_dog_breed_classifier.hdf5\n",
      "Epoch 14/20\n",
      "6680/6680 [==============================] - 24s 4ms/step - loss: 3.5038 - accuracy: 0.1732 - val_loss: 4.2018 - val_accuracy: 0.1018\n",
      "\n",
      "Epoch 00014: val_loss improved from 4.32265 to 4.20181, saving model to keras_dog_breed_classifier.hdf5\n",
      "Epoch 15/20\n",
      "6680/6680 [==============================] - 24s 4ms/step - loss: 3.4250 - accuracy: 0.1855 - val_loss: 4.3365 - val_accuracy: 0.1018\n",
      "\n",
      "Epoch 00015: val_loss did not improve from 4.20181\n",
      "Epoch 16/20\n",
      "6680/6680 [==============================] - 24s 4ms/step - loss: 3.3885 - accuracy: 0.2000 - val_loss: 4.4247 - val_accuracy: 0.0970\n",
      "\n",
      "Epoch 00016: val_loss did not improve from 4.20181\n",
      "Epoch 17/20\n",
      "6680/6680 [==============================] - 24s 4ms/step - loss: 3.3450 - accuracy: 0.2028 - val_loss: 4.2527 - val_accuracy: 0.1198\n",
      "\n",
      "Epoch 00017: val_loss did not improve from 4.20181\n",
      "Epoch 18/20\n",
      "6680/6680 [==============================] - 24s 4ms/step - loss: 3.3289 - accuracy: 0.2066 - val_loss: 4.1669 - val_accuracy: 0.1305\n",
      "\n",
      "Epoch 00018: val_loss improved from 4.20181 to 4.16686, saving model to keras_dog_breed_classifier.hdf5\n",
      "Epoch 19/20\n",
      "6680/6680 [==============================] - 24s 4ms/step - loss: 3.2483 - accuracy: 0.2207 - val_loss: 5.0465 - val_accuracy: 0.1018\n",
      "\n",
      "Epoch 00019: val_loss did not improve from 4.16686\n",
      "Epoch 20/20\n",
      "6680/6680 [==============================] - 24s 4ms/step - loss: 3.2568 - accuracy: 0.2268 - val_loss: 4.6386 - val_accuracy: 0.1066\n",
      "\n",
      "Epoch 00020: val_loss did not improve from 4.16686\n"
     ]
    },
    {
     "data": {
      "text/plain": [
       "<keras.callbacks.callbacks.History at 0x7f85695193c8>"
      ]
     },
     "execution_count": 77,
     "metadata": {},
     "output_type": "execute_result"
    }
   ],
   "source": [
    "epochs = 20\n",
    "batch_size = 20\n",
    "\n",
    "model.fit(\n",
    "    train_tensors, train_labels, \n",
    "    validation_data=(valid_tensors, valid_labels), \n",
    "    epochs=epochs, \n",
    "    batch_size=batch_size, \n",
    "    callbacks=[checkpointer],\n",
    "    verbose=1\n",
    ")"
   ]
  },
  {
   "cell_type": "code",
   "execution_count": 78,
   "metadata": {},
   "outputs": [
    {
     "name": "stdout",
     "output_type": "stream",
     "text": [
      "Test accuracy: 11.4833%\n"
     ]
    }
   ],
   "source": [
    "model.load_weights('keras_dog_breed_classifier.hdf5')\n",
    "# get index of predicted dog breed for each image in test set\n",
    "dog_breed_predictions = [np.argmax(model.predict(np.expand_dims(tensor, axis=0))) for tensor in test_tensors]\n",
    "# report test accuracy\n",
    "test_accuracy = 100*np.sum(np.array(dog_breed_predictions)==np.argmax(test_labels, axis=1))/len(dog_breed_predictions)\n",
    "print('Test accuracy: %.4f%%' % test_accuracy)"
   ]
  },
  {
   "cell_type": "code",
   "execution_count": 18,
   "metadata": {},
   "outputs": [
    {
     "data": {
      "text/plain": [
       "array([ 56,  58, 114,  18,  67,  20,  42,  51,  96,  50,   1,  18,  74,\n",
       "       132,  70,  13, 122,  31,  90,  41,  97,  68,  55,  94,  35, 124,\n",
       "        18,  18,  91, 112,   4, 108,  28,  22, 105,  79,  34,  38,   3,\n",
       "       117,  80, 129,  41,  26,  60,   1, 100,  89,  87,   7,  32,  66,\n",
       "        32,  13,  34, 118, 101, 103,  29,  96,  10, 102,  33,  95,  99,\n",
       "        27, 132, 121,  42,  37,  87,  57, 100,  58,  70,  60,  29, 123,\n",
       "        37,  67, 127, 102,  39,  81,  92,  86,  64,  45,   5,  36,  93,\n",
       "        14, 130,  69,  21,  19, 128,  69,  34, 108,   7,  10,  58,  23,\n",
       "        71, 114,  51,  56,  83,  86,  99,  60,  43,  11,  70,  10, 118,\n",
       "        82,  27,  43,  75,   0, 131,   0,  36, 109,  80,  94,  43,  20,\n",
       "        47, 117,  26, 117,  69,  53,  19,  55,  53,  49,  64,  74,  47,\n",
       "        55,   4,   2,  66,  43,  87,   6, 124, 100,  15,  82,  91,   1,\n",
       "        67,   9,  85, 112,  97,  28, 122,  87,  34,   0, 130,  97, 115,\n",
       "        90,  71, 120, 117,  59,  35,  72, 119,  35, 111,  62,  45, 100,\n",
       "         9,   6,  49,  62,  45,  15,   4,  31,   6,  31,  50, 123,  30,\n",
       "        45,  60,  10,   8,  97,   6,  50,  69,  67,  70,  89,  38,   4,\n",
       "        93,  84,  90,  15,   1,  20,  37,  62,  16,  49,  23,  52,  33,\n",
       "        13,  83,  40, 111, 120, 124,  70,  45,  54,  82,  36,  95,  43,\n",
       "       119,  32,   2,  62,  55, 104,  42,  47,  40,  56,  48,  78, 117,\n",
       "        33,  40,  52,  22,  25, 114,  63,   5,  88, 130,  10,  63,  26,\n",
       "        38,  62,  64,  41,   2,  86,  34,  33, 131,   4,  10,  20, 112,\n",
       "        95,  14,  95,  51,  12,  74, 117, 129,  28,  49,  21,  32,  25,\n",
       "       116, 111,  76, 103,  20,  57,  70,  59,  56,   8,  48,  68,  36,\n",
       "        21,  47,  81, 106,  46,  83,  76,  52,  73,  31,  84, 107,  29,\n",
       "       116,  67,  94, 112,   1,  33,  46,   0,  61,  55,  13,  41, 116,\n",
       "       110,  41,   6,  11,  75,  68,  54,  29,  89,  48,  28,  65,  25,\n",
       "        94,  98,  26,  78,  17,  31,  22,  23,  42,  43, 126,  91,  28,\n",
       "        73, 103,  12,  67, 107,  54,  10,  11,  69,  23,  88,   0,   5,\n",
       "        22,  97,  61,  14,  58,  17,  75,  30, 115,  44,  93,  13,  84,\n",
       "        14,  28,  78,  53,  98,  33, 126,  82,  16,  17,  86,  70,  50,\n",
       "       127,  30,   3,  59,  75,  85,  69,  81,   0,  17,  44,  48,  62,\n",
       "        24,  92,  40, 108,  56,  53,  88, 114, 128, 114,  30, 101,  45,\n",
       "        50,  81,  45, 129,  57,  93,  81, 123,  55,  56,   8,  81,  95,\n",
       "        49,  66,  90, 129,  14,  75, 111,   2,   8,  40,  16,  35,  73,\n",
       "       132,  67,  57,  85,  46,  52, 104,  17,  13,   0,  46,  59, 116,\n",
       "        42, 103,  57,  83, 106,  55,  24,  82,  48,  75,  20,   6,   4,\n",
       "        46, 113,  13,  74, 102, 121,  32, 109,   7,  55,   7, 100,  68,\n",
       "        64,  77,  91,  35,  75,  36,  66, 118,   3,  28,  53, 108,  98,\n",
       "        22,   4,  72, 113, 132,  40, 113,  79,  73, 125,  21,  16,  20,\n",
       "        45,   7, 102,  41, 119,  68,  96,  61,  84,  59,  86, 113,  29,\n",
       "        80,  38,  47,  81,   0,  99,  63,  94,  89, 111,  73, 114, 129,\n",
       "        38,  38,  65,  58,  38,  15, 128,   1,  78,  62, 124,  20, 127,\n",
       "        80,  98,  90,  26,  25,  76,  21,  14,   2,  96,  77,  44,  67,\n",
       "        70, 110,  55,  89,  12,  59,  11, 106,  94,  56, 128,  88, 111,\n",
       "       116,  43,  79,  48,   9,  72,  71,  46,  30, 118,  19,  39,   3,\n",
       "        14,  71, 112, 126,  23,  22,  47,  51, 102, 110, 106,  93,  25,\n",
       "        17,  61, 105,  34, 111,  39, 121, 131,  31,   4,  11,   5,  46,\n",
       "         7, 123,  26,  58,  90,  54,  40,  10,  54,  78,  83,  77, 122,\n",
       "       123, 105,  29,  76, 102,  89,  57,  17,  28,  88, 105, 104, 109,\n",
       "       117,  31,   9,   3,  52,  29,  16,  47,  14,  21,  28,  60,  78,\n",
       "        37, 106,  85,  98,  74,  39,  65,  44,  15,  71,  31,  85,  60,\n",
       "        15,  64,   3,  14,  19,  19,  75,  89,  63,  86,  18,  35,  44,\n",
       "       114,  33,  61,  56,  87,   2,  44,  40,  37,  30,  12,  72,  92,\n",
       "        38,  39,  85, 126,  60,  24,  50, 110, 127,  37, 119,  23,   4,\n",
       "        10,  41,   1,   5,  11,   4, 128,   7,   5,  56,  80,  28,  19,\n",
       "        85,  15,  82,  13,  51,  16, 104,   3, 110,  79,  50,  72,  52,\n",
       "        27,  50,  79,  88,  53,  40, 102,  35,  87,  26,  12, 125, 121,\n",
       "        22,  83,  41,  80,  51, 108,  30,  96,  18,  23,  16, 122,   5,\n",
       "        44,  27,  11,  91,  81,  88,  54,  12,  11,  59,  15,  39,   7,\n",
       "        43,  35, 122,  60,   5,  89,  53,  45,  37, 115,  68,  78,   6,\n",
       "       120,  16,   3,  24,  63,  71,  99,  19,  33, 107,  77,  77,  92,\n",
       "       103,  36,  39,  57,  19,  96, 123, 126,  23,  13,  61,  59, 106,\n",
       "       115,  14, 119,   9,  76, 100, 128,  22,  11,  78,  68, 105,  42,\n",
       "        54,  86,  65,   9,  86, 125, 114,  38, 109,   1,  49, 105, 116,\n",
       "        26,  90,  80, 101])"
      ]
     },
     "execution_count": 18,
     "metadata": {},
     "output_type": "execute_result"
    }
   ],
   "source": [
    "np.argmax(test_labels, axis=1)"
   ]
  },
  {
   "cell_type": "code",
   "execution_count": null,
   "metadata": {},
   "outputs": [],
   "source": []
  }
 ],
 "metadata": {
  "kernelspec": {
   "display_name": "Python 3",
   "language": "python",
   "name": "python3"
  },
  "language_info": {
   "codemirror_mode": {
    "name": "ipython",
    "version": 3
   },
   "file_extension": ".py",
   "mimetype": "text/x-python",
   "name": "python",
   "nbconvert_exporter": "python",
   "pygments_lexer": "ipython3",
   "version": "3.6.9"
  }
 },
 "nbformat": 4,
 "nbformat_minor": 2
}
