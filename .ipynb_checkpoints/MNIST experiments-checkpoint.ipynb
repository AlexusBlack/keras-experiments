{
 "cells": [
  {
   "cell_type": "markdown",
   "metadata": {},
   "source": [
    "# MNIST Experiments"
   ]
  },
  {
   "cell_type": "markdown",
   "metadata": {},
   "source": [
    "This notebook is created to experiment with [MNIST](https://en.wikipedia.org/wiki/MNIST_database) dataset.\n",
    "\n",
    "Plan:\n",
    "- Dense network solution on CPU\n",
    "- Dense network solution on GPU\n",
    "- CNN+dense network solution on CPU\n",
    "- CNN+dense network solution on GPU\n",
    "\n",
    "Tools: Keras, PyTorch"
   ]
  },
  {
   "cell_type": "code",
   "execution_count": 1,
   "metadata": {},
   "outputs": [
    {
     "name": "stderr",
     "output_type": "stream",
     "text": [
      "Using TensorFlow backend.\n"
     ]
    }
   ],
   "source": [
    "import keras"
   ]
  },
  {
   "cell_type": "code",
   "execution_count": 85,
   "metadata": {},
   "outputs": [],
   "source": [
    "from keras.datasets import mnist\n",
    "#from keras.datasets import fashion_mnist\n",
    "from keras.layers import Dense, Dropout, Flatten\n",
    "from keras.models import Sequential\n",
    "from keras.layers import Conv2D, MaxPooling2D\n",
    "from keras import backend as K"
   ]
  },
  {
   "cell_type": "code",
   "execution_count": 53,
   "metadata": {},
   "outputs": [
    {
     "data": {
      "text/plain": [
       "['/job:localhost/replica:0/task:0/device:GPU:0']"
      ]
     },
     "execution_count": 53,
     "metadata": {},
     "output_type": "execute_result"
    }
   ],
   "source": [
    "K.tensorflow_backend._get_available_gpus()"
   ]
  },
  {
   "cell_type": "code",
   "execution_count": 86,
   "metadata": {},
   "outputs": [],
   "source": [
    "#get train & tesr dataset\n",
    "(train_data, train_labels), (test_data, test_labels) = mnist.load_data()\n",
    "#(train_data, train_labels), (test_data, test_labels) = fashion_mnist.load_data()"
   ]
  },
  {
   "cell_type": "code",
   "execution_count": 87,
   "metadata": {},
   "outputs": [],
   "source": [
    "img_width = 28\n",
    "img_height = 28\n",
    "img_size = img_width * img_height # 784\n",
    "train_img_number = train_data.shape[0]\n",
    "test_img_number = test_data.shape[0]\n",
    "classes_number = 10 # 10 digits 0-9\n",
    "batch_size = 128\n",
    "train_epochs = 10"
   ]
  },
  {
   "cell_type": "code",
   "execution_count": 88,
   "metadata": {},
   "outputs": [],
   "source": [
    "# shape images\n",
    "if K.image_data_format() == 'channels_first':\n",
    "    train_data = train_data.reshape(train_img_number, 1, img_width, img_height)\n",
    "    test_data = test_data.reshape(test_img_number, 1, img_width, img_height)\n",
    "    input_shape = (1, img_width, img_height)\n",
    "else: # channels_last\n",
    "    train_data = train_data.reshape(train_img_number, img_width, img_height, 1)\n",
    "    test_data = test_data.reshape(test_img_number, img_width, img_height, 1)\n",
    "    input_shape = (img_width, img_height, 1)"
   ]
  },
  {
   "cell_type": "code",
   "execution_count": 89,
   "metadata": {},
   "outputs": [],
   "source": [
    "train_data = train_data.astype('float32')\n",
    "test_data = test_data.astype('float32')\n",
    "train_data /= 255\n",
    "test_data /= 255"
   ]
  },
  {
   "cell_type": "code",
   "execution_count": 90,
   "metadata": {},
   "outputs": [
    {
     "name": "stdout",
     "output_type": "stream",
     "text": [
      "train shape (60000, 28, 28, 1)\n"
     ]
    }
   ],
   "source": [
    "print('train shape', train_data.shape)"
   ]
  },
  {
   "cell_type": "code",
   "execution_count": 91,
   "metadata": {},
   "outputs": [],
   "source": [
    "train_labels = keras.utils.to_categorical(train_labels, classes_number)\n",
    "test_labels = keras.utils.to_categorical(test_labels, classes_number)"
   ]
  },
  {
   "cell_type": "code",
   "execution_count": 127,
   "metadata": {},
   "outputs": [
    {
     "name": "stdout",
     "output_type": "stream",
     "text": [
      "Model: \"sequential_28\"\n",
      "_________________________________________________________________\n",
      "Layer (type)                 Output Shape              Param #   \n",
      "=================================================================\n",
      "conv2d_32 (Conv2D)           (None, 26, 26, 32)        320       \n",
      "_________________________________________________________________\n",
      "conv2d_33 (Conv2D)           (None, 24, 24, 64)        18496     \n",
      "_________________________________________________________________\n",
      "max_pooling2d_22 (MaxPooling (None, 12, 12, 64)        0         \n",
      "_________________________________________________________________\n",
      "dropout_36 (Dropout)         (None, 12, 12, 64)        0         \n",
      "_________________________________________________________________\n",
      "flatten_28 (Flatten)         (None, 9216)              0         \n",
      "_________________________________________________________________\n",
      "dense_51 (Dense)             (None, 128)               1179776   \n",
      "_________________________________________________________________\n",
      "dropout_37 (Dropout)         (None, 128)               0         \n",
      "_________________________________________________________________\n",
      "dense_52 (Dense)             (None, 10)                1290      \n",
      "=================================================================\n",
      "Total params: 1,199,882\n",
      "Trainable params: 1,199,882\n",
      "Non-trainable params: 0\n",
      "_________________________________________________________________\n"
     ]
    }
   ],
   "source": [
    "model = Sequential()\n",
    "model.add(Conv2D(32, kernel_size=(3,3), activation='relu', input_shape=input_shape)) # 32x28x28\n",
    "model.add(Conv2D(64, kernel_size=(3,3), activation='relu')) # 64x28x28\n",
    "model.add(MaxPooling2D(pool_size=(2,2))) # 64x14x14\n",
    "model.add(Dropout(0.25))\n",
    "model.add(Flatten())\n",
    "model.add(Dense(128, activation='relu')) # 128\n",
    "model.add(Dropout(0.50))\n",
    "model.add(Dense(classes_number, activation='softmax')) # 10\n",
    "\n",
    "model.summary()"
   ]
  },
  {
   "cell_type": "code",
   "execution_count": 121,
   "metadata": {},
   "outputs": [],
   "source": [
    "model.compile(\n",
    "    loss=keras.losses.categorical_crossentropy,\n",
    "    optimizer=keras.optimizers.adadelta(), #keras.optimizers.adadelta(),\n",
    "    metrics=['accuracy']\n",
    ")"
   ]
  },
  {
   "cell_type": "code",
   "execution_count": 122,
   "metadata": {},
   "outputs": [
    {
     "name": "stdout",
     "output_type": "stream",
     "text": [
      "(10000, 28, 28, 1)\n",
      "(10000, 10)\n"
     ]
    }
   ],
   "source": [
    "print(test_data.shape)\n",
    "print(test_labels.shape)"
   ]
  },
  {
   "cell_type": "code",
   "execution_count": 123,
   "metadata": {},
   "outputs": [
    {
     "name": "stdout",
     "output_type": "stream",
     "text": [
      "Train on 60000 samples, validate on 10000 samples\n",
      "Epoch 1/10\n",
      "60000/60000 [==============================] - 2s 30us/step - loss: 1.7500 - accuracy: 0.3865 - val_loss: 1.4751 - val_accuracy: 0.4943\n",
      "Epoch 2/10\n",
      "60000/60000 [==============================] - 2s 28us/step - loss: 1.3747 - accuracy: 0.5370 - val_loss: 1.2651 - val_accuracy: 0.5822\n",
      "Epoch 3/10\n",
      "60000/60000 [==============================] - 2s 28us/step - loss: 1.2352 - accuracy: 0.5888 - val_loss: 1.1862 - val_accuracy: 0.6143\n",
      "Epoch 4/10\n",
      "60000/60000 [==============================] - 2s 28us/step - loss: 1.1681 - accuracy: 0.6136 - val_loss: 1.1293 - val_accuracy: 0.6361\n",
      "Epoch 5/10\n",
      "60000/60000 [==============================] - 2s 28us/step - loss: 1.1276 - accuracy: 0.6267 - val_loss: 1.1006 - val_accuracy: 0.6477\n",
      "Epoch 6/10\n",
      "60000/60000 [==============================] - 2s 28us/step - loss: 1.1009 - accuracy: 0.6351 - val_loss: 1.0772 - val_accuracy: 0.6507\n",
      "Epoch 7/10\n",
      "60000/60000 [==============================] - 2s 28us/step - loss: 1.0809 - accuracy: 0.6394 - val_loss: 1.0619 - val_accuracy: 0.6511\n",
      "Epoch 8/10\n",
      "60000/60000 [==============================] - 2s 28us/step - loss: 1.0659 - accuracy: 0.6431 - val_loss: 1.0517 - val_accuracy: 0.6544\n",
      "Epoch 9/10\n",
      "60000/60000 [==============================] - 2s 28us/step - loss: 1.0533 - accuracy: 0.6474 - val_loss: 1.0397 - val_accuracy: 0.6601\n",
      "Epoch 10/10\n",
      "60000/60000 [==============================] - 2s 28us/step - loss: 1.0430 - accuracy: 0.6513 - val_loss: 1.0350 - val_accuracy: 0.6598\n"
     ]
    },
    {
     "data": {
      "text/plain": [
       "<keras.callbacks.callbacks.History at 0x7f14993c6fd0>"
      ]
     },
     "execution_count": 123,
     "metadata": {},
     "output_type": "execute_result"
    }
   ],
   "source": [
    "train_epochs = 10\n",
    "\n",
    "model.fit(\n",
    "    train_data, train_labels, \n",
    "    batch_size=batch_size, \n",
    "    epochs=train_epochs, \n",
    "    verbose=1, \n",
    "    validation_data=(test_data, test_labels)\n",
    ")"
   ]
  },
  {
   "cell_type": "code",
   "execution_count": 85,
   "metadata": {},
   "outputs": [
    {
     "name": "stdout",
     "output_type": "stream",
     "text": [
      "Test loss: 0.03707205359062646\n",
      "Test accuracy: 0.9879999756813049\n"
     ]
    }
   ],
   "source": [
    "score = model.evaluate(test_data, test_labels, verbose=0)\n",
    "print('Test loss:', score[0])\n",
    "print('Test accuracy:', score[1])"
   ]
  },
  {
   "cell_type": "markdown",
   "metadata": {},
   "source": [
    "# Dog CNN with Keras"
   ]
  },
  {
   "cell_type": "markdown",
   "metadata": {},
   "source": [
    "## Dependancies"
   ]
  },
  {
   "cell_type": "code",
   "execution_count": 2,
   "metadata": {},
   "outputs": [],
   "source": [
    "from sklearn.datasets import load_files\n",
    "from keras.utils import np_utils\n",
    "import numpy as np\n",
    "from glob import glob"
   ]
  },
  {
   "cell_type": "code",
   "execution_count": 4,
   "metadata": {},
   "outputs": [],
   "source": [
    "dog_classes = 133"
   ]
  },
  {
   "cell_type": "code",
   "execution_count": 6,
   "metadata": {},
   "outputs": [],
   "source": [
    "def load_dataset(path, classes):\n",
    "    data = load_files(path)\n",
    "    files = np.array(data['filenames'])\n",
    "    targets = np_utils.to_categorical(np.array(data['target']), classes)\n",
    "    return files, targets"
   ]
  },
  {
   "cell_type": "markdown",
   "metadata": {},
   "source": [
    "## Loading dataset"
   ]
  },
  {
   "cell_type": "code",
   "execution_count": 7,
   "metadata": {},
   "outputs": [],
   "source": [
    "train_files, train_labels = load_dataset('dogImages/train', dog_classes)\n",
    "valid_files, valid_labels = load_dataset('dogImages/valid', dog_classes)\n",
    "test_files, test_labels = load_dataset('dogImages/test', dog_classes)"
   ]
  },
  {
   "cell_type": "code",
   "execution_count": 17,
   "metadata": {},
   "outputs": [],
   "source": [
    "dog_labels = [item[16:-1] for item in sorted(glob('dogImages/train/*/'))]"
   ]
  },
  {
   "cell_type": "code",
   "execution_count": 21,
   "metadata": {},
   "outputs": [],
   "source": [
    "img_size = (224, 224)"
   ]
  },
  {
   "cell_type": "markdown",
   "metadata": {},
   "source": [
    "## Preprocessing images"
   ]
  },
  {
   "cell_type": "code",
   "execution_count": 29,
   "metadata": {},
   "outputs": [],
   "source": [
    "from keras.preprocessing import image\n",
    "from tqdm import tqdm_notebook as tqdm\n",
    "from PIL import ImageFile\n",
    "ImageFile.LOAD_TRUNCATED_IMAGES = True"
   ]
  },
  {
   "cell_type": "code",
   "execution_count": 27,
   "metadata": {},
   "outputs": [],
   "source": [
    "def path_to_tensor(path):\n",
    "    # load image\n",
    "    img = image.load_img(path, target_size=img_size)\n",
    "    # convert to 3D tensor\n",
    "    x = image.img_to_array(img)\n",
    "    # convert into 4D tensor at beginning of new axis\n",
    "    return np.expand_dims(x, axis=0)    "
   ]
  },
  {
   "cell_type": "code",
   "execution_count": 23,
   "metadata": {},
   "outputs": [],
   "source": [
    "def paths_to_tensor(img_paths):\n",
    "    list_of_tensors = [path_to_tensor(img_path) for img_path in tqdm(img_paths)]\n",
    "    return np.vstack(list_of_tensors)"
   ]
  },
  {
   "cell_type": "code",
   "execution_count": 30,
   "metadata": {},
   "outputs": [
    {
     "name": "stderr",
     "output_type": "stream",
     "text": [
      "/home/ubuntu/miniconda3/envs/deep-learning/lib/python3.6/site-packages/ipykernel_launcher.py:2: TqdmDeprecationWarning: This function will be removed in tqdm==5.0.0\n",
      "Please use `tqdm.notebook.tqdm` instead of `tqdm.tqdm_notebook`\n",
      "  \n"
     ]
    },
    {
     "data": {
      "application/vnd.jupyter.widget-view+json": {
       "model_id": "0db7015d366c4bbca29011e0c834febf",
       "version_major": 2,
       "version_minor": 0
      },
      "text/plain": [
       "HBox(children=(IntProgress(value=0, max=6680), HTML(value='')))"
      ]
     },
     "metadata": {},
     "output_type": "display_data"
    },
    {
     "name": "stderr",
     "output_type": "stream",
     "text": [
      "\n",
      " 87%|████████▋ | 5796/6680 [01:03<00:06, 141.32it/s]\u001b[A"
     ]
    },
    {
     "name": "stdout",
     "output_type": "stream",
     "text": [
      "\n"
     ]
    },
    {
     "data": {
      "application/vnd.jupyter.widget-view+json": {
       "model_id": "2e91fcc77bc84596af8859918b98f45b",
       "version_major": 2,
       "version_minor": 0
      },
      "text/plain": [
       "HBox(children=(IntProgress(value=0, max=835), HTML(value='')))"
      ]
     },
     "metadata": {},
     "output_type": "display_data"
    },
    {
     "name": "stdout",
     "output_type": "stream",
     "text": [
      "\n"
     ]
    },
    {
     "data": {
      "application/vnd.jupyter.widget-view+json": {
       "model_id": "fca55c9002574a6b923b8dc34143fdfb",
       "version_major": 2,
       "version_minor": 0
      },
      "text/plain": [
       "HBox(children=(IntProgress(value=0, max=836), HTML(value='')))"
      ]
     },
     "metadata": {},
     "output_type": "display_data"
    },
    {
     "name": "stdout",
     "output_type": "stream",
     "text": [
      "\n"
     ]
    }
   ],
   "source": [
    "train_tensors = paths_to_tensor(train_files).astype('float32')/255\n",
    "valid_tensors = paths_to_tensor(valid_files).astype('float32')/255\n",
    "test_tensors = paths_to_tensor(test_files).astype('float32')/255"
   ]
  },
  {
   "cell_type": "markdown",
   "metadata": {},
   "source": [
    "## CNN dependancies"
   ]
  },
  {
   "cell_type": "code",
   "execution_count": 18,
   "metadata": {},
   "outputs": [],
   "source": [
    "from keras.layers import Conv2D, MaxPool2D, GlobalAveragePooling2D\n",
    "from keras.layers import Dropout, Flatten, Dense\n",
    "from keras.models import Sequential"
   ]
  },
  {
   "cell_type": "code",
   "execution_count": 48,
   "metadata": {},
   "outputs": [
    {
     "name": "stdout",
     "output_type": "stream",
     "text": [
      "Model: \"sequential_8\"\n",
      "_________________________________________________________________\n",
      "Layer (type)                 Output Shape              Param #   \n",
      "=================================================================\n",
      "conv2d_22 (Conv2D)           (None, 223, 223, 16)      208       \n",
      "_________________________________________________________________\n",
      "max_pooling2d_21 (MaxPooling (None, 111, 111, 16)      0         \n",
      "_________________________________________________________________\n",
      "conv2d_23 (Conv2D)           (None, 110, 110, 32)      2080      \n",
      "_________________________________________________________________\n",
      "max_pooling2d_22 (MaxPooling (None, 55, 55, 32)        0         \n",
      "_________________________________________________________________\n",
      "conv2d_24 (Conv2D)           (None, 54, 54, 64)        8256      \n",
      "_________________________________________________________________\n",
      "max_pooling2d_23 (MaxPooling (None, 27, 27, 64)        0         \n",
      "_________________________________________________________________\n",
      "conv2d_25 (Conv2D)           (None, 26, 26, 128)       32896     \n",
      "_________________________________________________________________\n",
      "max_pooling2d_24 (MaxPooling (None, 13, 13, 128)       0         \n",
      "_________________________________________________________________\n",
      "flatten_6 (Flatten)          (None, 21632)             0         \n",
      "_________________________________________________________________\n",
      "dropout_9 (Dropout)          (None, 21632)             0         \n",
      "_________________________________________________________________\n",
      "dense_11 (Dense)             (None, 1024)              22152192  \n",
      "_________________________________________________________________\n",
      "dropout_10 (Dropout)         (None, 1024)              0         \n",
      "_________________________________________________________________\n",
      "dense_12 (Dense)             (None, 133)               136325    \n",
      "=================================================================\n",
      "Total params: 22,331,957\n",
      "Trainable params: 22,331,957\n",
      "Non-trainable params: 0\n",
      "_________________________________________________________________\n"
     ]
    }
   ],
   "source": [
    "model = Sequential()\n",
    "\n",
    "model.add(Conv2D(filters=16, kernel_size=2, activation='relu', input_shape=train_tensors.shape[1:]))\n",
    "model.add(MaxPool2D())\n",
    "model.add(Conv2D(filters=32, kernel_size=2, activation='relu'))\n",
    "model.add(MaxPool2D())\n",
    "model.add(Conv2D(filters=64, kernel_size=2, activation='relu'))\n",
    "model.add(MaxPool2D())\n",
    "model.add(Conv2D(filters=128, kernel_size=2, activation='relu'))\n",
    "model.add(MaxPool2D())\n",
    "model.add(Flatten())\n",
    "model.add(Dropout(0.25))\n",
    "model.add(Dense(1024, activation='relu'))\n",
    "model.add(Dropout(0.50))\n",
    "model.add(Dense(dog_classes, activation='softmax'))\n",
    "\n",
    "model.summary()"
   ]
  },
  {
   "cell_type": "code",
   "execution_count": 49,
   "metadata": {},
   "outputs": [],
   "source": [
    "import keras\n",
    "\n",
    "model.compile(\n",
    "    loss=keras.losses.categorical_crossentropy,\n",
    "    optimizer=keras.optimizers.adadelta(), #keras.optimizers.adadelta(),\n",
    "    metrics=['accuracy']\n",
    ")"
   ]
  },
  {
   "cell_type": "code",
   "execution_count": 51,
   "metadata": {},
   "outputs": [],
   "source": [
    "from keras.callbacks import ModelCheckpoint\n",
    "checkpointer = ModelCheckpoint(\n",
    "    filepath='keras_dog_breed_classifier.hdf5', \n",
    "    save_best_only=True,\n",
    "    verbose=1\n",
    ")"
   ]
  },
  {
   "cell_type": "code",
   "execution_count": 52,
   "metadata": {},
   "outputs": [
    {
     "name": "stdout",
     "output_type": "stream",
     "text": [
      "Train on 6680 samples, validate on 835 samples\n",
      "Epoch 1/10\n",
      "6680/6680 [==============================] - 24s 4ms/step - loss: 0.1267 - accuracy: 0.9653 - val_loss: 6.8161 - val_accuracy: 0.1198\n",
      "\n",
      "Epoch 00001: val_loss improved from inf to 6.81614, saving model to keras_dog_breed_classifier.hdf5\n",
      "Epoch 2/10\n",
      "6680/6680 [==============================] - 24s 4ms/step - loss: 0.0839 - accuracy: 0.9774 - val_loss: 7.5060 - val_accuracy: 0.1090\n",
      "\n",
      "Epoch 00002: val_loss did not improve from 6.81614\n",
      "Epoch 3/10\n",
      "6680/6680 [==============================] - 24s 4ms/step - loss: 0.0855 - accuracy: 0.9778 - val_loss: 7.5394 - val_accuracy: 0.1138\n",
      "\n",
      "Epoch 00003: val_loss did not improve from 6.81614\n",
      "Epoch 4/10\n",
      "6680/6680 [==============================] - 24s 4ms/step - loss: 0.0652 - accuracy: 0.9820 - val_loss: 7.3198 - val_accuracy: 0.1150\n",
      "\n",
      "Epoch 00004: val_loss did not improve from 6.81614\n",
      "Epoch 5/10\n",
      "6680/6680 [==============================] - 24s 4ms/step - loss: 0.0545 - accuracy: 0.9867 - val_loss: 7.1800 - val_accuracy: 0.1186\n",
      "\n",
      "Epoch 00005: val_loss did not improve from 6.81614\n",
      "Epoch 6/10\n",
      "6680/6680 [==============================] - 24s 4ms/step - loss: 0.0522 - accuracy: 0.9868 - val_loss: 7.5977 - val_accuracy: 0.1234\n",
      "\n",
      "Epoch 00006: val_loss did not improve from 6.81614\n",
      "Epoch 7/10\n",
      "6680/6680 [==============================] - 24s 4ms/step - loss: 0.0459 - accuracy: 0.9895 - val_loss: 7.4732 - val_accuracy: 0.1126\n",
      "\n",
      "Epoch 00007: val_loss did not improve from 6.81614\n",
      "Epoch 8/10\n",
      "6680/6680 [==============================] - 24s 4ms/step - loss: 0.0475 - accuracy: 0.9912 - val_loss: 7.1509 - val_accuracy: 0.1162\n",
      "\n",
      "Epoch 00008: val_loss did not improve from 6.81614\n",
      "Epoch 9/10\n",
      "6680/6680 [==============================] - 24s 4ms/step - loss: 0.0376 - accuracy: 0.9912 - val_loss: 7.4987 - val_accuracy: 0.1150\n",
      "\n",
      "Epoch 00009: val_loss did not improve from 6.81614\n",
      "Epoch 10/10\n",
      "6680/6680 [==============================] - 24s 4ms/step - loss: 0.0393 - accuracy: 0.9906 - val_loss: 7.8439 - val_accuracy: 0.1210\n",
      "\n",
      "Epoch 00010: val_loss did not improve from 6.81614\n"
     ]
    },
    {
     "data": {
      "text/plain": [
       "<keras.callbacks.callbacks.History at 0x7f862d772128>"
      ]
     },
     "execution_count": 52,
     "metadata": {},
     "output_type": "execute_result"
    }
   ],
   "source": [
    "epochs = 10\n",
    "batch_size = 20\n",
    "\n",
    "model.fit(\n",
    "    train_tensors, train_labels, \n",
    "    validation_data=(valid_tensors, valid_labels), \n",
    "    epochs=epochs, \n",
    "    batch_size=batch_size, \n",
    "    callbacks=[checkpointer],\n",
    "    verbose=1\n",
    ")"
   ]
  },
  {
   "cell_type": "code",
   "execution_count": null,
   "metadata": {},
   "outputs": [],
   "source": []
  }
 ],
 "metadata": {
  "kernelspec": {
   "display_name": "Python 3",
   "language": "python",
   "name": "python3"
  },
  "language_info": {
   "codemirror_mode": {
    "name": "ipython",
    "version": 3
   },
   "file_extension": ".py",
   "mimetype": "text/x-python",
   "name": "python",
   "nbconvert_exporter": "python",
   "pygments_lexer": "ipython3",
   "version": "3.6.9"
  }
 },
 "nbformat": 4,
 "nbformat_minor": 2
}
