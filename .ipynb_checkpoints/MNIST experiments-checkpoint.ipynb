{
 "cells": [
  {
   "cell_type": "markdown",
   "metadata": {},
   "source": [
    "# MNIST Experiments"
   ]
  },
  {
   "cell_type": "markdown",
   "metadata": {},
   "source": [
    "This notebook is created to experiment with [MNIST](https://en.wikipedia.org/wiki/MNIST_database) dataset.\n",
    "\n",
    "Plan:\n",
    "- Dense network solution on CPU\n",
    "- Dense network solution on GPU\n",
    "- CNN+dense network solution on CPU\n",
    "- CNN+dense network solution on GPU\n",
    "\n",
    "Tools: Keras, PyTorch"
   ]
  },
  {
   "cell_type": "code",
   "execution_count": 1,
   "metadata": {},
   "outputs": [
    {
     "name": "stderr",
     "output_type": "stream",
     "text": [
      "Using TensorFlow backend.\n"
     ]
    }
   ],
   "source": [
    "import keras"
   ]
  },
  {
   "cell_type": "code",
   "execution_count": 2,
   "metadata": {},
   "outputs": [],
   "source": [
    "from keras.datasets import mnist\n",
    "from keras.layers import Dense, Dropout, Flatten\n",
    "from keras.models import Sequential\n",
    "from keras.layers import Conv2D, MaxPooling2D\n",
    "from keras import backend as K"
   ]
  },
  {
   "cell_type": "code",
   "execution_count": 3,
   "metadata": {},
   "outputs": [
    {
     "data": {
      "text/plain": [
       "['/job:localhost/replica:0/task:0/device:GPU:0']"
      ]
     },
     "execution_count": 3,
     "metadata": {},
     "output_type": "execute_result"
    }
   ],
   "source": [
    "K.tensorflow_backend._get_available_gpus()"
   ]
  },
  {
   "cell_type": "code",
   "execution_count": 4,
   "metadata": {},
   "outputs": [],
   "source": [
    "#get train & tesr dataset\n",
    "(train_data, train_labels), (test_data, test_labels) = mnist.load_data()"
   ]
  },
  {
   "cell_type": "code",
   "execution_count": 5,
   "metadata": {},
   "outputs": [],
   "source": [
    "img_width = 28\n",
    "img_height = 28\n",
    "img_size = img_width * img_height # 784\n",
    "train_img_number = train_data.shape[0]\n",
    "test_img_number = test_data.shape[0]\n",
    "classes_number = 10 # 10 digits 0-9\n",
    "batch_size = 128\n",
    "train_epochs = 10"
   ]
  },
  {
   "cell_type": "code",
   "execution_count": 6,
   "metadata": {},
   "outputs": [],
   "source": [
    "# shape images\n",
    "if K.image_data_format() == 'channels_first':\n",
    "    train_data = train_data.reshape(train_img_number, 1, img_width, img_height)\n",
    "    test_data = test_data.reshape(test_img_number, 1, img_width, img_height)\n",
    "    input_shape = (1, img_width, img_height)\n",
    "else: # channels_last\n",
    "    train_data = train_data.reshape(train_img_number, img_width, img_height, 1)\n",
    "    test_data = test_data.reshape(test_img_number, img_width, img_height, 1)\n",
    "    input_shape = (img_width, img_height, 1)"
   ]
  },
  {
   "cell_type": "code",
   "execution_count": 7,
   "metadata": {},
   "outputs": [],
   "source": [
    "train_data = train_data.astype('float32')\n",
    "test_data = test_data.astype('float32')\n",
    "train_data /= 255\n",
    "test_data /= 255"
   ]
  },
  {
   "cell_type": "code",
   "execution_count": 8,
   "metadata": {},
   "outputs": [
    {
     "name": "stdout",
     "output_type": "stream",
     "text": [
      "train shape (60000, 28, 28, 1)\n"
     ]
    }
   ],
   "source": [
    "print('train shape', train_data.shape)"
   ]
  },
  {
   "cell_type": "code",
   "execution_count": 9,
   "metadata": {},
   "outputs": [],
   "source": [
    "train_labels = keras.utils.to_categorical(train_labels, classes_number)\n",
    "test_labels = keras.utils.to_categorical(test_labels, classes_number)"
   ]
  },
  {
   "cell_type": "code",
   "execution_count": 10,
   "metadata": {},
   "outputs": [],
   "source": [
    "model = Sequential()\n",
    "model.add(Conv2D(32, kernel_size=(3,3), activation='relu', input_shape=input_shape)) # 32x28x28\n",
    "model.add(Conv2D(64, kernel_size=(3,3), activation='relu')) # 64x28x28\n",
    "model.add(MaxPooling2D(pool_size=(2,2))) # 64x14x14\n",
    "model.add(Dropout(0.25))\n",
    "model.add(Flatten()) # 50176\n",
    "model.add(Dense(128, activation='relu')) # 128\n",
    "model.add(Dropout(0.50))\n",
    "model.add(Dense(classes_number, activation='softmax')) # 10"
   ]
  },
  {
   "cell_type": "code",
   "execution_count": 11,
   "metadata": {},
   "outputs": [],
   "source": [
    "model.compile(\n",
    "    loss=keras.losses.categorical_crossentropy,\n",
    "    optimizer=keras.optimizers.adadelta(), #keras.optimizers.adadelta(),\n",
    "    metrics=['accuracy']\n",
    ")"
   ]
  },
  {
   "cell_type": "code",
   "execution_count": 12,
   "metadata": {},
   "outputs": [
    {
     "name": "stdout",
     "output_type": "stream",
     "text": [
      "(10000, 28, 28, 1)\n",
      "(10000, 10)\n"
     ]
    }
   ],
   "source": [
    "print(test_data.shape)\n",
    "print(test_labels.shape)"
   ]
  },
  {
   "cell_type": "code",
   "execution_count": 14,
   "metadata": {},
   "outputs": [
    {
     "name": "stdout",
     "output_type": "stream",
     "text": [
      "Train on 60000 samples, validate on 10000 samples\n",
      "Epoch 1/12\n",
      "60000/60000 [==============================] - 8s 132us/step - loss: 0.0662 - accuracy: 0.9800 - val_loss: 0.0393 - val_accuracy: 0.9854\n",
      "Epoch 2/12\n",
      "60000/60000 [==============================] - 8s 132us/step - loss: 0.0556 - accuracy: 0.9836 - val_loss: 0.0312 - val_accuracy: 0.9887\n",
      "Epoch 3/12\n",
      "60000/60000 [==============================] - 8s 132us/step - loss: 0.0471 - accuracy: 0.9856 - val_loss: 0.0313 - val_accuracy: 0.9897\n",
      "Epoch 4/12\n",
      "60000/60000 [==============================] - 8s 132us/step - loss: 0.0404 - accuracy: 0.9880 - val_loss: 0.0310 - val_accuracy: 0.9892\n",
      "Epoch 5/12\n",
      "60000/60000 [==============================] - 8s 132us/step - loss: 0.0371 - accuracy: 0.9883 - val_loss: 0.0304 - val_accuracy: 0.9905\n",
      "Epoch 6/12\n",
      "60000/60000 [==============================] - 8s 132us/step - loss: 0.0330 - accuracy: 0.9901 - val_loss: 0.0252 - val_accuracy: 0.9912\n",
      "Epoch 7/12\n",
      "60000/60000 [==============================] - 8s 132us/step - loss: 0.0322 - accuracy: 0.9901 - val_loss: 0.0273 - val_accuracy: 0.9908\n",
      "Epoch 8/12\n",
      "60000/60000 [==============================] - 8s 132us/step - loss: 0.0286 - accuracy: 0.9911 - val_loss: 0.0262 - val_accuracy: 0.9913\n",
      "Epoch 9/12\n",
      "60000/60000 [==============================] - 8s 132us/step - loss: 0.0260 - accuracy: 0.9921 - val_loss: 0.0288 - val_accuracy: 0.9900\n",
      "Epoch 10/12\n",
      "60000/60000 [==============================] - 8s 133us/step - loss: 0.0250 - accuracy: 0.9923 - val_loss: 0.0262 - val_accuracy: 0.9919\n",
      "Epoch 11/12\n",
      "60000/60000 [==============================] - 8s 132us/step - loss: 0.0235 - accuracy: 0.9927 - val_loss: 0.0263 - val_accuracy: 0.9912\n",
      "Epoch 12/12\n",
      "60000/60000 [==============================] - 8s 132us/step - loss: 0.0234 - accuracy: 0.9926 - val_loss: 0.0263 - val_accuracy: 0.9922\n"
     ]
    },
    {
     "data": {
      "text/plain": [
       "<keras.callbacks.callbacks.History at 0x7f15343cf7f0>"
      ]
     },
     "execution_count": 14,
     "metadata": {},
     "output_type": "execute_result"
    }
   ],
   "source": [
    "train_epochs = 12\n",
    "\n",
    "model.fit(\n",
    "    train_data, train_labels, \n",
    "    batch_size=batch_size, \n",
    "    epochs=train_epochs, \n",
    "    verbose=1, \n",
    "    validation_data=(test_data, test_labels)\n",
    ")"
   ]
  },
  {
   "cell_type": "code",
   "execution_count": 85,
   "metadata": {},
   "outputs": [
    {
     "name": "stdout",
     "output_type": "stream",
     "text": [
      "Test loss: 0.03707205359062646\n",
      "Test accuracy: 0.9879999756813049\n"
     ]
    }
   ],
   "source": [
    "score = model.evaluate(test_data, test_labels, verbose=0)\n",
    "print('Test loss:', score[0])\n",
    "print('Test accuracy:', score[1])"
   ]
  },
  {
   "cell_type": "code",
   "execution_count": null,
   "metadata": {},
   "outputs": [],
   "source": []
  }
 ],
 "metadata": {
  "kernelspec": {
   "display_name": "Python 3",
   "language": "python",
   "name": "python3"
  },
  "language_info": {
   "codemirror_mode": {
    "name": "ipython",
    "version": 3
   },
   "file_extension": ".py",
   "mimetype": "text/x-python",
   "name": "python",
   "nbconvert_exporter": "python",
   "pygments_lexer": "ipython3",
   "version": "3.6.9"
  }
 },
 "nbformat": 4,
 "nbformat_minor": 2
}
